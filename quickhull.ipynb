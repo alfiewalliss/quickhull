{
 "cells": [
  {
   "cell_type": "markdown",
   "metadata": {},
   "source": [
    "# Coursework - Quickhull Algorithm"
   ]
  },
  {
   "cell_type": "code",
   "execution_count": 1,
   "metadata": {},
   "outputs": [],
   "source": [
    "# Import Python libraries.\n",
    "\n",
    "import csv\n",
    "import sys\n",
    "import math\n",
    "import random\n",
    "import matplotlib.pyplot as plt"
   ]
  },
  {
   "cell_type": "code",
   "execution_count": 2,
   "metadata": {},
   "outputs": [],
   "source": [
    "def plot_convexhull(points, convex_hull):\n",
    "    \"\"\"\n",
    "    Plot a set of points and the convex hull.\n",
    "    Input:\n",
    "        points <'list'>      - A set of points in the form of x, y, label.\n",
    "        convex_hull <'list'> - The convex hull in the form of x, y, label.\n",
    "    Output:\n",
    "        0.\n",
    "    \"\"\"\n",
    "\n",
    "    fig = plt.figure()\n",
    "    ax = fig.add_subplot(111)\n",
    "    \n",
    "    if(len(convex_hull) > 0):\n",
    "        loophull = convex_hull + [convex_hull[0]]\n",
    "    else:\n",
    "        loophull = []\n",
    "\n",
    "    plt.plot([p[0] for p in points], [p[1] for p in points], 'ro')  # point\n",
    "    plt.plot([p[0] for p in loophull], [p[1] for p in loophull])  # convex hull\n",
    "\n",
    "\n",
    "    plt.axis('on')\n",
    "    plt.show()\n",
    "\n",
    "    return\n",
    "\n"
   ]
  },
  {
   "cell_type": "code",
   "execution_count": 3,
   "metadata": {},
   "outputs": [],
   "source": [
    "def quickhull(points):\n",
    "    \"\"\"\n",
    "    Begin the quickhull algorithm by splitting the points intersected by the right and left most points.\n",
    "    Input:\n",
    "        points <'list'>      - A set of points in the form of x, y, label.\n",
    "    Output:\n",
    "        The points on the convex hull in order.\n",
    "    \"\"\"\n",
    "    \n",
    "    # Initialising list for the points that lie on the convex hull.\n",
    "    convexHull = []\n",
    "    \n",
    "    # Initialising point variables\n",
    "    minPoint = points[0]\n",
    "    maxPoint = points[0]\n",
    "    \n",
    "    # Calculate the points with the minimum and maximum x-coordinate.\n",
    "    for p in points:\n",
    "        if p[0] < minPoint[0]:\n",
    "            minPoint = p\n",
    "        if p[0] > maxPoint[0]:\n",
    "            maxPoint = p\n",
    "    \n",
    "    # Add the points with the minimum and maximum x-coordinate to the convex hull.\n",
    "    convexHull.append(minPoint)\n",
    "    convexHull.append(maxPoint)\n",
    "    \n",
    "    # Remove the points with the minimum and maximum x-coordinate from the original points list.\n",
    "    points.remove(minPoint)\n",
    "    points.remove(maxPoint)\n",
    "    \n",
    "    # Inisilising the lists of points either side of the line formed by minPoint, maxPoint.\n",
    "    left = []\n",
    "    right = []\n",
    "    \n",
    "    # Adds all points to either the left or right lists depending on their side of the line.\n",
    "    for p in points:\n",
    "        if pointLocation(minPoint, maxPoint, p) == -1:\n",
    "            left.append(p)\n",
    "        elif pointLocation(minPoint, maxPoint, p) == 1:\n",
    "            right.append(p)\n",
    "    \n",
    "    # Calls hull set witht the two sets formed.\n",
    "    findHull(minPoint, maxPoint, right, convexHull)\n",
    "    findHull(maxPoint, minPoint, left, convexHull)\n",
    " \n",
    "    # Returns the convex hull\n",
    "    return convexHull"
   ]
  },
  {
   "cell_type": "code",
   "execution_count": 4,
   "metadata": {},
   "outputs": [],
   "source": [
    "def findHull(a, b, sets, hull):\n",
    "    \"\"\"\n",
    "    Finds points on the convex hull by recursively calling itself.\n",
    "    Input:\n",
    "        a      - An end point of the segment.\n",
    "        b      - The other end point of the segment.\n",
    "        sets   - All the remaining points on one side of the segment.\n",
    "        hull   - All the current points on the convex hull.\n",
    "    Output:\n",
    "        The positive distance between the line and point c.\n",
    "    \"\"\"\n",
    "    \n",
    "    # Gets the position of point b in the convex hull.\n",
    "    insertPosition = hull.index(b)\n",
    "    \n",
    "    # Returns if set is empty or adds point to hull next to b if set has only one item.\n",
    "    if len(sets) == 0:\n",
    "        return\n",
    "    if len(sets) == 1:\n",
    "        hull.insert(insertPosition, sets[0])\n",
    "        return\n",
    "    \n",
    "    # Finds the point furthest form the intersection in sets.\n",
    "    dist = -math.inf\n",
    "    furthestPoint = sets[0]\n",
    "    for p in sets:\n",
    "        distanceToPoint = distance(a, b, p)\n",
    "        if distanceToPoint > dist:\n",
    "            dist = distanceToPoint\n",
    "            furthestPoint = p\n",
    "    \n",
    "    # Removes the furthest point from sets and adds it to the convex hull.\n",
    "    sets.remove(furthestPoint)\n",
    "    hull.insert(insertPosition, furthestPoint)\n",
    "    \n",
    "    # Creates a list of points from sets are on the outside of the line fromed by a and furthestPoint.\n",
    "    leftSetAP = []\n",
    "    for m in sets:\n",
    "        if pointLocation(a, furthestPoint, m) == 1:\n",
    "            leftSetAP.append(m)\n",
    "    \n",
    "    # Creates a list of points from sets are on the outside of the line fromed by furthestPoint and b.\n",
    "    leftSetPB = []\n",
    "    for m in sets:\n",
    "        if pointLocation(furthestPoint, b, m) == 1:\n",
    "            leftSetPB.append(m)\n",
    "\n",
    "    #Recursively calls hullset with new lists\n",
    "    findHull(a, furthestPoint, leftSetAP, hull)\n",
    "    findHull(furthestPoint, b, leftSetPB, hull)"
   ]
  },
  {
   "cell_type": "code",
   "execution_count": 5,
   "metadata": {},
   "outputs": [],
   "source": [
    "def distance(a, b, c):\n",
    "    \"\"\"\n",
    "    Calculates the perpendicular distace of the point c from the line formed between a and b.\n",
    "    Input:\n",
    "        a      - An end point of the segment.\n",
    "        b      - The other end point of the segment.\n",
    "        c      - The point to measure the distance to.\n",
    "    Output:\n",
    "        The positive distance between the line and point c.\n",
    "    \"\"\"\n",
    "    \n",
    "    abx = b[0] - a[0]\n",
    "    aby = b[1] - a[1]\n",
    "    num = abx * (a[1] - c[1]) - aby * (a[0] - c[0])\n",
    "    if num < 0:\n",
    "        num = -num\n",
    "    return num"
   ]
  },
  {
   "cell_type": "code",
   "execution_count": 6,
   "metadata": {},
   "outputs": [],
   "source": [
    "def pointLocation(a, b, p):\n",
    "    \"\"\"\n",
    "    Calculates the side of the line fromed by a and b point p is on.\n",
    "    Input:\n",
    "        a      - An end point of the segment.\n",
    "        b      - The other end point of the segment.\n",
    "        p      - The point being assessed.\n",
    "    Output:\n",
    "        1 if p is on one side of the line.\n",
    "        -1 if p is on the other side of the line.\n",
    "        0 if p is found on the line.\n",
    "    \"\"\"\n",
    "    cp1 = (b[0] - a[0]) * (p[1] - a[1]) - (b[1] - a[1]) * (p[0] - a[0])\n",
    "    if cp1 > 0:\n",
    "        return 1\n",
    "    elif cp1 == 0:\n",
    "        return 0\n",
    "    else:\n",
    "        return -1\n",
    "        "
   ]
  },
  {
   "cell_type": "code",
   "execution_count": 8,
   "metadata": {},
   "outputs": [
    {
     "name": "stdout",
     "output_type": "stream",
     "text": [
      "Please enter number of randomly generated points to make convex hull around: 30\n",
      "Points without convex hull:\n"
     ]
    },
    {
     "data": {
      "image/png": "[encoded data removed]",
      "text/plain": [
       "<Figure size 640x480 with 1 Axes>"
      ]
     },
     "metadata": {},
     "output_type": "display_data"
    },
    {
     "name": "stdout",
     "output_type": "stream",
     "text": [
      "Points with covex hull:\n"
     ]
    },
    {
     "data": {
      "image/png": "[encoded data removed]",
      "text/plain": [
       "<Figure size 640x480 with 1 Axes>"
      ]
     },
     "metadata": {},
     "output_type": "display_data"
    },
    {
     "name": "stdout",
     "output_type": "stream",
     "text": [
      "There are 8 points on the convex hull.\n",
      " They are: \n",
      "X: 095, Y: 034\n",
      "X: 078, Y: 023\n",
      "X: 030, Y: 012\n",
      "X: 002, Y: 010\n",
      "X: 000, Y: 027\n",
      "X: 030, Y: 099\n",
      "X: 060, Y: 098\n",
      "X: 095, Y: 054\n"
     ]
    }
   ],
   "source": [
    "if __name__ == \"__main__\":\n",
    "    \n",
    "    # Generating random points for algorithm with user input and error checking.\n",
    "    check = False\n",
    "    while not check:\n",
    "        try:\n",
    "            num_points = int(input(\"Please enter number of randomly generated points to make convex hull around: \"))\n",
    "            if num_points > 2:\n",
    "                check = True\n",
    "            else:\n",
    "                print(\"Error: more points required for quickhull\")\n",
    "        except:\n",
    "            print(\"Error: wrong input format\")\n",
    "    points =[]\n",
    "    for i in range(num_points):\n",
    "        points.append([random.randint(0,100), random.randint(0,100)])\n",
    "\n",
    "\n",
    "    # Create a copy of the points.\n",
    "    final = points.copy()\n",
    "\n",
    "    # Run quickhull algorithm.\n",
    "    convex_hull = quickhull(points)\n",
    "    \n",
    "    # Plot points and the convex hull.\n",
    "    print(\"Points without convex hull:\")\n",
    "    plot_convexhull(final, [])\n",
    "    print(\"Points with covex hull:\")\n",
    "    plot_convexhull(final, convex_hull)\n",
    "    print(\"There are \" + str(len(convex_hull)) + \" points on the convex hull.\\n They are: \")\n",
    "    for i in convex_hull:\n",
    "        print(\"X: \" + str(i[0]).zfill(3) + \", Y: \" + str(i[1]).zfill(3))\n",
    "        \n"
   ]
  },
  {
   "cell_type": "markdown",
   "metadata": {},
   "source": [
    "\n"
   ]
  },
  {
   "cell_type": "code",
   "execution_count": null,
   "metadata": {},
   "outputs": [],
   "source": []
  }
 ],
 "metadata": {
  "kernelspec": {
   "display_name": "Python 3 (ipykernel)",
   "language": "python",
   "name": "python3"
  },
  "language_info": {
   "codemirror_mode": {
    "name": "ipython",
    "version": 3
   },
   "file_extension": ".py",
   "mimetype": "text/x-python",
   "name": "python",
   "nbconvert_exporter": "python",
   "pygments_lexer": "ipython3",
   "version": "3.10.7"
  }
 },
 "nbformat": 4,
 "nbformat_minor": 2
}
